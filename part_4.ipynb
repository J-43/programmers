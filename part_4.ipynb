{
 "cells": [
  {
   "cell_type": "markdown",
   "metadata": {},
   "source": [
    "## part4. Iterable 다루기"
   ]
  },
  {
   "cell_type": "markdown",
   "metadata": {},
   "source": [
    "### 원본을 유지한채, 정렬된 리스트 구하기 - sorted\n",
    "파이썬의 sort() 함수를 사용하면 리스트의 원소를 정렬할 수 있습니다. 이때, sort 함수는 원본의 멤버 순서를 변경하지요.\n",
    "따라서 원본의 순서는 변경하지 않고, 정렬된 값을 구하려면 sort 함수를 사용할 수 없습니다.\n",
    "\n",
    "이런 경우는 어떻게 해야 할까요?"
   ]
  },
  {
   "cell_type": "code",
   "execution_count": 2,
   "metadata": {},
   "outputs": [
    {
     "data": {
      "text/plain": [
       "[1, 2, 3]"
      ]
     },
     "execution_count": 2,
     "metadata": {},
     "output_type": "execute_result"
    }
   ],
   "source": [
    "list1 = [3, 2, 1]\n",
    "list2 = [i for i in list1] # 또는 copy.deepcopy를 사용\n",
    "list2.sort()\n",
    "list2"
   ]
  },
  {
   "cell_type": "code",
   "execution_count": 4,
   "metadata": {},
   "outputs": [
    {
     "data": {
      "text/plain": [
       "[1, 2, 3]"
      ]
     },
     "execution_count": 4,
     "metadata": {},
     "output_type": "execute_result"
    }
   ],
   "source": [
    "# sorted() 사용하기\n",
    "\n",
    "list1 = [3, 2, 1]\n",
    "list2 = sorted(list1)\n",
    "\n",
    "list2"
   ]
  },
  {
   "cell_type": "markdown",
   "metadata": {},
   "source": [
    "### 2차원 리스트 뒤집기\n",
    "\n",
    "문제 설명    \n",
    "다음을 만족하는 함수, solution을 완성해주세요.    \n",
    "\n",
    "solution 함수는 이차원 리스트, mylist를 인자로 받습니다    \n",
    "solution 함수는 mylist 원소의 행과 열을 뒤집은 한 값을 리턴해야합니다.    \n",
    "예를 들어 mylist [ [1,2,3], [4,5,6], [7,8,9] ]가 주어진 경우, solution 함수는 [[1, 4, 7], [2, 5, 8], [3, 6, 9]] 을 리턴하면 됩니다.    "
   ]
  },
  {
   "cell_type": "code",
   "execution_count": null,
   "metadata": {},
   "outputs": [],
   "source": [
    "# solution\n",
    "\n",
    "def solution(mylist):\n",
    "    answer = list(map(list,zip(*mylist)))\n",
    "    return answer"
   ]
  },
  {
   "cell_type": "code",
   "execution_count": 5,
   "metadata": {},
   "outputs": [
    {
     "data": {
      "text/plain": [
       "[[1, 4, 7], [2, 5, 8], [3, 6, 9]]"
      ]
     },
     "execution_count": 5,
     "metadata": {},
     "output_type": "execute_result"
    }
   ],
   "source": [
    "# for문 사용시\n",
    "\n",
    "mylist = [ [1,2,3], [4,5,6], [7,8,9] ]\n",
    "new_list = [[],[],[]]\n",
    "\n",
    "for i in range(3):\n",
    "    for j in range(3):\n",
    "        new_list[i].append( mylist[j][i] )\n",
    "        \n",
    "new_list"
   ]
  },
  {
   "cell_type": "code",
   "execution_count": 9,
   "metadata": {},
   "outputs": [
    {
     "data": {
      "text/plain": [
       "[[1, 4, 7], [2, 5, 8], [3, 6, 9]]"
      ]
     },
     "execution_count": 9,
     "metadata": {},
     "output_type": "execute_result"
    }
   ],
   "source": [
    "#zip()\n",
    "\n",
    "mylist = [[1,2,3],[4,5,6],[7,8,9]]\n",
    "new_list = list(map(list, zip(*mylist)))\n",
    "new_list"
   ]
  },
  {
   "cell_type": "code",
   "execution_count": 12,
   "metadata": {},
   "outputs": [
    {
     "name": "stdout",
     "output_type": "stream",
     "text": [
      "(1, 40)\n",
      "(2, 50)\n",
      "(3, 60)\n"
     ]
    }
   ],
   "source": [
    "a_list = [ 1,2,3 ]\n",
    "b_list = [ 40, 50, 60 ]\n",
    "\n",
    "for i in zip(a_list, b_list):\n",
    "    print (i)"
   ]
  },
  {
   "cell_type": "code",
   "execution_count": 14,
   "metadata": {},
   "outputs": [
    {
     "name": "stdout",
     "output_type": "stream",
     "text": [
      "493\n",
      "124\n",
      "66\n",
      "305\n"
     ]
    }
   ],
   "source": [
    "#1 - 여러 개의 Iterable 동시에 순회할 때 사용\n",
    "\n",
    "list1 = [1, 2, 3, 4]\n",
    "list2 = [100, 120, 30, 300]\n",
    "list3 = [392, 2, 33, 1]\n",
    "\n",
    "for i, j, k in zip(list1, list2, list3):\n",
    "   print( i + j + k )\n",
    "\n"
   ]
  },
  {
   "cell_type": "code",
   "execution_count": 16,
   "metadata": {},
   "outputs": [
    {
     "data": {
      "text/plain": [
       "{'cat': 'meow', 'dog': 'woof', 'lion': 'roar'}"
      ]
     },
     "execution_count": 16,
     "metadata": {},
     "output_type": "execute_result"
    }
   ],
   "source": [
    "#2 - Key 리스트와 Value 리스트로 딕셔너리 생성하기\n",
    "\n",
    "animals = ['cat', 'dog', 'lion']\n",
    "sounds = ['meow', 'woof', 'roar']\n",
    "answer = dict(zip(animals, sounds))\n",
    "\n",
    "answer"
   ]
  },
  {
   "cell_type": "markdown",
   "metadata": {},
   "source": [
    "### 모든 멤버의 type 변환하기\n",
    "\n",
    "문제 설명    \n",
    "문자열 리스트 mylist를 입력받아, 이 리스트를 정수형 리스트로 바꾼 값을 리턴하는 함수, solution을 만들어주세요. 예를 들어 mylist가 ['1', '100', '33'] 인 경우, solution 함수는 [1, 100, 33] 을 리턴하면 됩니다."
   ]
  },
  {
   "cell_type": "code",
   "execution_count": 20,
   "metadata": {},
   "outputs": [
    {
     "data": {
      "text/plain": [
       "[1, 100, 33]"
      ]
     },
     "execution_count": 20,
     "metadata": {},
     "output_type": "execute_result"
    }
   ],
   "source": [
    "# map()\n",
    "\n",
    "mylist = ['1','100','33']\n",
    "\n",
    "n_list = list(map(int ,mylist))\n",
    "\n",
    "n_list"
   ]
  },
  {
   "cell_type": "code",
   "execution_count": 21,
   "metadata": {},
   "outputs": [
    {
     "data": {
      "text/plain": [
       "[1, 100, 33]"
      ]
     },
     "execution_count": 21,
     "metadata": {},
     "output_type": "execute_result"
    }
   ],
   "source": [
    "# for\n",
    "\n",
    "list1 = ['1', '100', '33']\n",
    "list2 = []\n",
    "for i in list1:\n",
    "    list2.append(int(i))\n",
    "    \n",
    "list2"
   ]
  },
  {
   "cell_type": "markdown",
   "metadata": {},
   "source": [
    "### map 함수 응용하기\n",
    "문제 설명    \n",
    "정수를 담은 이차원 리스트, mylist 가 solution 함수의 파라미터로 주어집니다. solution 함수가 mylist 각 원소의 길이를 담은 리스트를 리턴하도록 빈칸을 완성해보세요.\n",
    "\n",
    "\n",
    "hint) 이전 강의에서 배운 map 함수를 활용해보세요"
   ]
  },
  {
   "cell_type": "code",
   "execution_count": 23,
   "metadata": {},
   "outputs": [
    {
     "data": {
      "text/plain": [
       "[1, 2, 2, 3]"
      ]
     },
     "execution_count": 23,
     "metadata": {},
     "output_type": "execute_result"
    }
   ],
   "source": [
    "mylist=[[1],[2,3],[3,4],[4,5,6]]\n",
    "\n",
    "def solution(mylist):\n",
    "    answer = list(map(len,mylist))\n",
    "    return answer\n",
    "\n",
    "solution(mylist)"
   ]
  },
  {
   "cell_type": "code",
   "execution_count": null,
   "metadata": {},
   "outputs": [],
   "source": []
  }
 ],
 "metadata": {
  "kernelspec": {
   "display_name": "aiffel",
   "language": "python",
   "name": "aiffel"
  },
  "language_info": {
   "codemirror_mode": {
    "name": "ipython",
    "version": 3
   },
   "file_extension": ".py",
   "mimetype": "text/x-python",
   "name": "python",
   "nbconvert_exporter": "python",
   "pygments_lexer": "ipython3",
   "version": "3.7.6"
  }
 },
 "nbformat": 4,
 "nbformat_minor": 4
}
