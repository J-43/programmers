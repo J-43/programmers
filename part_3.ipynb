{
 "cells": [
  {
   "cell_type": "markdown",
   "metadata": {},
   "source": [
    "## Part3. Str다루기"
   ]
  },
  {
   "cell_type": "markdown",
   "metadata": {},
   "source": [
    "### 문자열 정렬하기\n",
    "\n",
    "문제 설명    \n",
    "문자열 s와 자연수 n이 입력으로 주어집니다. 문자열 s를 좌측 / 가운데 / 우측 정렬한 길이 n인 문자열을 한 줄씩 프린트해보세요.    \n",
    "\n",
    "제한조건   \n",
    "s의 길이는 n보다 작습니다.   \n",
    "(n - s의 길이)는 짝수입니다.    \n",
    "s는 알파벳과 숫자로만 이루어져 있으며, 공백 문자가 포함되어있지 않습니다.    \n"
   ]
  },
  {
   "cell_type": "code",
   "execution_count": 4,
   "metadata": {},
   "outputs": [
    {
     "name": "stdout",
     "output_type": "stream",
     "text": [
      "[우측정렬]    가나다라\n"
     ]
    }
   ],
   "source": [
    "### 우측 정렬 예\n",
    "s = '가나다라'\n",
    "n = 7\n",
    "\n",
    "answer = ''\n",
    "for i in range(n-len(s)): # 문자열의 앞을 빈 문자열로 채우는 for 문\n",
    "    answer += ' '\n",
    "answer += s\n",
    "\n",
    "print('[우측정렬]', answer)"
   ]
  },
  {
   "cell_type": "code",
   "execution_count": 6,
   "metadata": {},
   "outputs": [
    {
     "name": "stdout",
     "output_type": "stream",
     "text": [
      "가나다라   \n",
      "  가나다라 \n",
      "   가나다라\n"
     ]
    }
   ],
   "source": [
    "# ljust, center, rjust와 같은 string의 메소드\n",
    "\n",
    "s = '가나다라'\n",
    "n = 7\n",
    "\n",
    "print(s.ljust(n))     # 좌측 정렬\n",
    "print(s.center(n))    # 가운데 정렬\n",
    "print(s.rjust(n))     # 우측 정렬"
   ]
  },
  {
   "cell_type": "code",
   "execution_count": 7,
   "metadata": {},
   "outputs": [
    {
     "name": "stdout",
     "output_type": "stream",
     "text": [
      "abcd 7\n",
      "abcd   \n",
      " abcd  \n",
      "   abcd\n"
     ]
    }
   ],
   "source": [
    "# f를 이용한 풀이?\n",
    "\n",
    "s, n = input().strip().split(\" \")\n",
    "\n",
    "print(f'{s:<{n}}')\n",
    "print(f'{s:^{n}}')\n",
    "print(f'{s:>{n}}')"
   ]
  },
  {
   "cell_type": "code",
   "execution_count": 12,
   "metadata": {},
   "outputs": [
    {
     "name": "stdout",
     "output_type": "stream",
     "text": [
      "abc 7\n",
      "abc    \n",
      "  abc  \n",
      "    abc\n"
     ]
    }
   ],
   "source": [
    "s, n = input().strip().split(' ')\n",
    "\n",
    "n = int(n)                    # ljust , center , rjust\n",
    "length = len(s)\n",
    "if length < n and (n-length)%2 == 0:\n",
    "    print(s.ljust(n))\n",
    "    print(s.center(n))\n",
    "    print(s.rjust(n))"
   ]
  },
  {
   "cell_type": "markdown",
   "metadata": {},
   "source": [
    "### 알파벳 출력하기\n",
    "\n",
    "문제 설명    \n",
    "입력으로 0이 주어지면 영문 소문자 알파벳을, 입력으로 1이 주어지면 영문 대문자 알파벳을 사전 순으로 출력하는 코드를 짜세요.    \n"
   ]
  },
  {
   "cell_type": "code",
   "execution_count": 13,
   "metadata": {},
   "outputs": [
    {
     "name": "stdout",
     "output_type": "stream",
     "text": [
      "0\n",
      "abcdefghijklmnopqrstuvwxyz\n"
     ]
    }
   ],
   "source": [
    "num = int(input().strip())\n",
    "\n",
    "if num == 0:\n",
    "    print(\"abcdefghijklmnopqrstuvwxyz\")\n",
    "else:\n",
    "    print(\"ABCDEFGHIJKLMNOPQRSTUVWXYZ\")\n"
   ]
  },
  {
   "cell_type": "code",
   "execution_count": 14,
   "metadata": {},
   "outputs": [
    {
     "data": {
      "text/plain": [
       "'0123456789'"
      ]
     },
     "execution_count": 14,
     "metadata": {},
     "output_type": "execute_result"
    }
   ],
   "source": [
    "import string \n",
    "\n",
    "string.ascii_lowercase   # 소문자 abcdefghijklmnopqrstuvwxyz\n",
    "string.ascii_uppercase   # 대문자 ABCDEFGHIJKLMNOPQRSTUVWXYZ\n",
    "string.ascii_letters     #대소문자 모두 abcdefghijklmnopqrstuvwxyzABCDEFGHIJKLMNOPQRSTUVWXYZ\n",
    "string.digits            # 숫자 0123456789"
   ]
  },
  {
   "cell_type": "code",
   "execution_count": null,
   "metadata": {},
   "outputs": [],
   "source": []
  }
 ],
 "metadata": {
  "kernelspec": {
   "display_name": "aiffel",
   "language": "python",
   "name": "aiffel"
  },
  "language_info": {
   "codemirror_mode": {
    "name": "ipython",
    "version": 3
   },
   "file_extension": ".py",
   "mimetype": "text/x-python",
   "name": "python",
   "nbconvert_exporter": "python",
   "pygments_lexer": "ipython3",
   "version": "3.7.6"
  }
 },
 "nbformat": 4,
 "nbformat_minor": 4
}
