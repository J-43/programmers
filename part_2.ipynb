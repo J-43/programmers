{
 "cells": [
  {
   "cell_type": "markdown",
   "metadata": {},
   "source": [
    "### 들어가기전에"
   ]
  },
  {
   "cell_type": "markdown",
   "metadata": {},
   "source": [
    "정수를 담은 이차원 리스트, mylist 가 solution 함수의 파라미터로 주어집니다.     \n",
    "solution 함수가 mylist 각 원소의 길이를 담은 리스트를 리턴하도록 코드를 작성해주세요.    \n",
    "\n",
    "제한 조건    \n",
    "mylist의 길이는 100 이하인 자연수입니다.    \n",
    "mylist 각 원소의 길이는 100 이하인 자연수입니다."
   ]
  },
  {
   "cell_type": "code",
   "execution_count": 1,
   "metadata": {},
   "outputs": [],
   "source": [
    "def solution(mylist):\n",
    "    return list(map(len, mylist))"
   ]
  },
  {
   "cell_type": "markdown",
   "metadata": {},
   "source": [
    "### map() \n",
    "\n",
    "map()은 리스트의 요소를 지정된 함수로 처리해주는 함수.     \n",
    "원본 리스트를 변경하지 않고 새 리스트를 생성.   \n",
    "list(map(함수,리스트)   \n",
    "tuple(map(함수, 튜플)    \n",
    "\n",
    "https://dojang.io/mod/page/view.php?id=2286"
   ]
  },
  {
   "cell_type": "code",
   "execution_count": 3,
   "metadata": {},
   "outputs": [
    {
     "name": "stdout",
     "output_type": "stream",
     "text": [
      "[1, 2, 3, 4]\n",
      "[1, 2, 3, 4]\n"
     ]
    }
   ],
   "source": [
    "# 실수 리스트 정수로 변환\n",
    "\n",
    "# for\n",
    "b = [1.2, 2.5, 3.7, 4.6]\n",
    "for i in range(len(b)):\n",
    "    b[i] = int(b[i])\n",
    "print(b)\n",
    "\n",
    "# map\n",
    "a = [1.2, 2.5, 3.7, 4.6]\n",
    "a = list(map(int,a))\n",
    "\n",
    "print(a)"
   ]
  },
  {
   "cell_type": "code",
   "execution_count": 4,
   "metadata": {},
   "outputs": [
    {
     "name": "stdout",
     "output_type": "stream",
     "text": [
      "['0', '1', '2', '3', '4', '5', '6', '7', '8', '9']\n"
     ]
    }
   ],
   "source": [
    "# map()에는 반복 가능한 객체를 넣을수 있음.\n",
    "\n",
    "c = list(map(str,range(10)))\n",
    "print(c)"
   ]
  },
  {
   "cell_type": "code",
   "execution_count": 6,
   "metadata": {},
   "outputs": [
    {
     "name": "stdout",
     "output_type": "stream",
     "text": [
      "10 20 30\n"
     ]
    },
    {
     "data": {
      "text/plain": [
       "['10', '20', '30']"
      ]
     },
     "execution_count": 6,
     "metadata": {},
     "output_type": "execute_result"
    }
   ],
   "source": [
    "# input().split() 과 map\n",
    "\n",
    "a = input().split()\n",
    "a"
   ]
  },
  {
   "cell_type": "code",
   "execution_count": 7,
   "metadata": {},
   "outputs": [
    {
     "name": "stdout",
     "output_type": "stream",
     "text": [
      "10 20 30\n"
     ]
    },
    {
     "data": {
      "text/plain": [
       "<map at 0x7f0b905f3650>"
      ]
     },
     "execution_count": 7,
     "metadata": {},
     "output_type": "execute_result"
    }
   ],
   "source": [
    "# map을 사용해 정수로 변환\n",
    "\n",
    "a = map(int, input().split())\n",
    "a"
   ]
  },
  {
   "cell_type": "markdown",
   "metadata": {},
   "source": [
    "### part 2. 정수다루기"
   ]
  },
  {
   "cell_type": "markdown",
   "metadata": {},
   "source": [
    "#### 몫과 나머지\n",
    "문제 설명     \n",
    "숫자 a, b가 주어졌을 때 a를 b로 나눈 몫과 a를 b로 나눈 나머지를 공백으로 구분해 출력해보세요.     \n",
    "\n",
    "입력 설명    \n",
    "입력으로는 공백으로 구분된 숫자가 두 개 주어집니다.    \n",
    "첫 번째 숫자는 a를 나타내며, 두 번째 숫자는 b를 나타냅니다.    \n",
    "\n",
    "출력 설명    \n",
    "a를 b로 나눈 몫과 a를 b로 나눈 나머지를 공백으로 구분해 출력하세요.    \n",
    "\n",
    "제한 조건    \n",
    "a와 b는 자연수입니다.    "
   ]
  },
  {
   "cell_type": "code",
   "execution_count": 8,
   "metadata": {},
   "outputs": [
    {
     "name": "stdout",
     "output_type": "stream",
     "text": [
      "10 2\n",
      "5 0\n"
     ]
    }
   ],
   "source": [
    "a, b = map(int, input().strip().split(' '))\n",
    "\n",
    "x = a //b\n",
    "y = a % b\n",
    "\n",
    "print(\"{} {}\".format(x,y))"
   ]
  },
  {
   "cell_type": "code",
   "execution_count": 12,
   "metadata": {},
   "outputs": [
    {
     "name": "stdout",
     "output_type": "stream",
     "text": [
      "10 5\n",
      "2 0\n"
     ]
    }
   ],
   "source": [
    "a, b = map(int, input().strip().split(' '))\n",
    "\n",
    "print(\"{} {}\".format(a//b,a%b))"
   ]
  },
  {
   "cell_type": "code",
   "execution_count": 10,
   "metadata": {},
   "outputs": [
    {
     "data": {
      "text/plain": [
       "(1, 2)"
      ]
     },
     "execution_count": 10,
     "metadata": {},
     "output_type": "execute_result"
    }
   ],
   "source": [
    "# divmod\n",
    "\n",
    "a = 7\n",
    "b = 5\n",
    "\n",
    "divmod(a,b)       # divmod(a, b) =>> ( a//b, a%b )"
   ]
  },
  {
   "cell_type": "code",
   "execution_count": 11,
   "metadata": {
    "scrolled": true
   },
   "outputs": [
    {
     "name": "stdout",
     "output_type": "stream",
     "text": [
      "7 5\n",
      "(1, 2)\n"
     ]
    }
   ],
   "source": [
    "# divmod\n",
    "a, b = map(int, input().strip().split(' '))\n",
    "\n",
    "print(divmod(a,b))"
   ]
  },
  {
   "cell_type": "markdown",
   "metadata": {},
   "source": [
    "무조건 divmod를 사용하는 게 좋은 방법은 아닙니다.     \n",
    "가독성이나, 팀의 코드 스타일에 따라서, a//b, a%b와 같이 쓸 때가 더 좋을 수도 있습니다.    \n",
    "또한, divmod는 작은 숫자를 다룰 때는 a//b, a%b 보다 느립니다. 대신, 큰 숫자를 다룰 때는 전자가 후자보다 더 빠르지요.    "
   ]
  },
  {
   "cell_type": "markdown",
   "metadata": {},
   "source": [
    "#### n진법으로 표기된 string을 10진법 숫자로 변환하기\n",
    "문제 설명    \n",
    "base 진법으로 표기된 숫자를 10진법 숫자 출력해보세요.    \n",
    "\n",
    "입력 설명    \n",
    "입력으로는 공백으로 구분된 숫자가 두 개 주어집니다.    \n",
    "첫 번째 숫자는 num을 나타내며, 두 번째 숫자는 base를 나타냅니다.     \n",
    "\n",
    "출력 설명    \n",
    "base 진법으로 표기된 num을 10진법 숫자로 출력해보세요.    \n",
    "\n",
    "제한 조건   \n",
    "base는 10 이하인 자연수입니다.   \n",
    "num은 3000 이하인 자연수입니다.   "
   ]
  },
  {
   "cell_type": "code",
   "execution_count": 13,
   "metadata": {},
   "outputs": [
    {
     "name": "stdout",
     "output_type": "stream",
     "text": [
      "12 3\n",
      "5\n"
     ]
    }
   ],
   "source": [
    "num, base = map(int, input().strip().split(' '))\n",
    "\n",
    "answer = int(str(num), int(base))\n",
    "\n",
    "\n",
    "print(answer)   # 3진법으로 표기된 12는 10진법으로 표현하면 5 입니다."
   ]
  },
  {
   "cell_type": "code",
   "execution_count": 20,
   "metadata": {},
   "outputs": [
    {
     "name": "stdout",
     "output_type": "stream",
     "text": [
      "12 3\n",
      "5\n"
     ]
    }
   ],
   "source": [
    "# 파이썬의 int(x, base = 10) 함수는 진법 변환을 지원합니다.\n",
    "\n",
    "num, base = map(int, input().strip().split(' '))\n",
    "\n",
    "answer = int(str(num), base)\n",
    "\n",
    "\n",
    "print(answer)"
   ]
  },
  {
   "cell_type": "code",
   "execution_count": 17,
   "metadata": {},
   "outputs": [
    {
     "data": {
      "text/plain": [
       "5"
      ]
     },
     "execution_count": 17,
     "metadata": {},
     "output_type": "execute_result"
    }
   ],
   "source": [
    "num = '12'\n",
    "base = 3\n",
    "\n",
    "answer = 0\n",
    "for idx, i in enumerate(num[::-1]):\n",
    "    answer += int(i) * ( base ** idx )\n",
    "answer"
   ]
  },
  {
   "cell_type": "code",
   "execution_count": 21,
   "metadata": {},
   "outputs": [
    {
     "data": {
      "text/plain": [
       "12"
      ]
     },
     "execution_count": 21,
     "metadata": {},
     "output_type": "execute_result"
    }
   ],
   "source": [
    "a = int('1100',2)         # int('base진법으로표현된 수',base진법) ==> 10진수로 변환된 값 반환.\n",
    "a"
   ]
  },
  {
   "cell_type": "code",
   "execution_count": null,
   "metadata": {},
   "outputs": [],
   "source": []
  }
 ],
 "metadata": {
  "kernelspec": {
   "display_name": "Python 3",
   "language": "python",
   "name": "python3"
  },
  "language_info": {
   "codemirror_mode": {
    "name": "ipython",
    "version": 3
   },
   "file_extension": ".py",
   "mimetype": "text/x-python",
   "name": "python",
   "nbconvert_exporter": "python",
   "pygments_lexer": "ipython3",
   "version": "3.7.6"
  }
 },
 "nbformat": 4,
 "nbformat_minor": 4
}
