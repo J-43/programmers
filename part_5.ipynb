{
 "cells": [
  {
   "cell_type": "markdown",
   "metadata": {},
   "source": [
    "## part5.  Sequence Types 다루기"
   ]
  },
  {
   "cell_type": "markdown",
   "metadata": {},
   "source": [
    "### sequence 멤버를 하나로 이어붙이기\n",
    "\n",
    "문제 설명    \n",
    "문자열 리스트 mylist를 입력받아, 이 리스트의 원소를 모두 이어붙인 문자열을 리턴하는 함수, solution을 만들어주세요. 예를 들어 mylist가 ['1', '100', '33'] 인 경우, solution 함수는 '110033'을 리턴하면 됩니다."
   ]
  },
  {
   "cell_type": "code",
   "execution_count": 1,
   "metadata": {},
   "outputs": [],
   "source": [
    "# join()\n",
    "\n",
    "def solution(mylist):\n",
    "    answer = ''.join(mylist)\n",
    "    return answer"
   ]
  },
  {
   "cell_type": "code",
   "execution_count": 2,
   "metadata": {},
   "outputs": [
    {
     "data": {
      "text/plain": [
       "'110033'"
      ]
     },
     "execution_count": 2,
     "metadata": {},
     "output_type": "execute_result"
    }
   ],
   "source": [
    "# for\n",
    "\n",
    "my_list = ['1', '100', '33']\n",
    "answer = ''\n",
    "for i in my_list:\n",
    "    answer += i\n",
    "answer"
   ]
  },
  {
   "cell_type": "markdown",
   "metadata": {},
   "source": [
    "### 삼각형 별찍기\n",
    "\n",
    "이 문제에는 표준 입력으로 정수 n이 주어집니다.\n",
    "별(*) 문자를 이용해 높이가 n인 삼각형을 출력해보세요."
   ]
  },
  {
   "cell_type": "code",
   "execution_count": 4,
   "metadata": {},
   "outputs": [
    {
     "name": "stdout",
     "output_type": "stream",
     "text": [
      "3\n",
      "*\n",
      "**\n",
      "***\n"
     ]
    }
   ],
   "source": [
    "n = int(input().strip())\n",
    "\n",
    "for i in range(1,n+1):\n",
    "    print('*'*i)"
   ]
  },
  {
   "cell_type": "markdown",
   "metadata": {},
   "source": [
    "#### 삼각형 별찍기 - sequence type의 * 연산    \n",
    "\n",
    "이번 강의에서는 곱셈 연산 '*'를 통해 문자열을 반복하는 방법을 배웁니다.    \n"
   ]
  },
  {
   "cell_type": "code",
   "execution_count": 7,
   "metadata": {},
   "outputs": [
    {
     "data": {
      "text/plain": [
       "'abcabcabc'"
      ]
     },
     "execution_count": 7,
     "metadata": {},
     "output_type": "execute_result"
    }
   ],
   "source": [
    "answer = ''\n",
    "n = 3\n",
    "for i in range(n):\n",
    "    answer += 'abc'\n",
    "    \n",
    "answer\n"
   ]
  },
  {
   "cell_type": "code",
   "execution_count": 8,
   "metadata": {},
   "outputs": [
    {
     "name": "stdout",
     "output_type": "stream",
     "text": [
      "abcabcabc\n",
      "[123, 456, 123, 456, 123, 456]\n"
     ]
    }
   ],
   "source": [
    "# * 사용\n",
    "\n",
    "#파이썬에서는 *연산자를 사용해 코드를 획기적으로 줄일 수 있습니다.\n",
    "\n",
    "n = 3\n",
    "answer1 = 'abc'*n\n",
    "\n",
    "\n",
    "#또, * 연산자를 이용하면 [123, 456, 123, 456, 123 ...] 과같이 123, 456이 n번 반복되는 리스트를 만들 수 있습니다.\n",
    "\n",
    "n = 3\n",
    "answer2= [123, 456]*n\n",
    "\n",
    "print(answer1)\n",
    "print(answer2)"
   ]
  },
  {
   "cell_type": "code",
   "execution_count": null,
   "metadata": {},
   "outputs": [],
   "source": []
  }
 ],
 "metadata": {
  "kernelspec": {
   "display_name": "aiffel",
   "language": "python",
   "name": "aiffel"
  },
  "language_info": {
   "codemirror_mode": {
    "name": "ipython",
    "version": 3
   },
   "file_extension": ".py",
   "mimetype": "text/x-python",
   "name": "python",
   "nbconvert_exporter": "python",
   "pygments_lexer": "ipython3",
   "version": "3.7.6"
  }
 },
 "nbformat": 4,
 "nbformat_minor": 4
}
