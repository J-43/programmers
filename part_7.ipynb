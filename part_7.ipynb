{
 "cells": [
  {
   "cell_type": "markdown",
   "metadata": {},
   "source": [
    "## part.7 기타"
   ]
  },
  {
   "cell_type": "markdown",
   "metadata": {},
   "source": [
    "### for 문과 if문을 한번에\n",
    "문제 설명    \n",
    "정수를 담은 리스트 mylist를 입력받아, 이 리스트의 원소 중 짝수인 값만을 제곱해 담은 새 리스트를 리턴하는 solution함수를 완성해주세요.    \n",
    "예를 들어, [3, 2, 6, 7]이 주어진 경우    \n",
    "\n",
    "3은 홀수이므로 무시합니다.    \n",
    "2는 짝수이므로 제곱합니다.   \n",
    "6은 짝수이므로 제곱합니다.   \n",
    "7은 홀수이므로 무시합니다.    \n",
    "따라서 2의 제곱과 6의 제곱을 담은 리스트인 [4, 36]을 리턴해야합니다."
   ]
  },
  {
   "cell_type": "code",
   "execution_count": 4,
   "metadata": {},
   "outputs": [
    {
     "data": {
      "text/plain": [
       "[2, 4]"
      ]
     },
     "execution_count": 4,
     "metadata": {},
     "output_type": "execute_result"
    }
   ],
   "source": [
    "list1 = [1,2,3,4]\n",
    "answer = []\n",
    "for i in list1:\n",
    "    if i % 2 ==0:\n",
    "        answer.append(i)\n",
    "    \n",
    "answer\n"
   ]
  },
  {
   "cell_type": "code",
   "execution_count": 6,
   "metadata": {},
   "outputs": [
    {
     "name": "stdout",
     "output_type": "stream",
     "text": [
      "[4, 36]\n"
     ]
    }
   ],
   "source": [
    "### 제출\n",
    "\n",
    "mylist = [3,2,6,7]\n",
    "\n",
    "def solution(mylist):\n",
    "    answer =[]\n",
    "    for i in mylist:\n",
    "        if i % 2 ==0 :\n",
    "            answer.append(i**2)\n",
    "    return answer\n",
    "\n",
    "print(solution(mylist))"
   ]
  },
  {
   "cell_type": "code",
   "execution_count": 9,
   "metadata": {},
   "outputs": [
    {
     "data": {
      "text/plain": [
       "[4, 36]"
      ]
     },
     "execution_count": 9,
     "metadata": {},
     "output_type": "execute_result"
    }
   ],
   "source": [
    "# list comprehension\n",
    "\n",
    "list2 = [i**2 for i in mylist if i %2 ==0]\n",
    "list2"
   ]
  },
  {
   "cell_type": "code",
   "execution_count": 10,
   "metadata": {},
   "outputs": [
    {
     "data": {
      "text/plain": [
       "[9, 49]"
      ]
     },
     "execution_count": 10,
     "metadata": {},
     "output_type": "execute_result"
    }
   ],
   "source": [
    "list3 = [i**2 for i in mylist if i % 2]\n",
    "list3"
   ]
  },
  {
   "cell_type": "markdown",
   "metadata": {},
   "source": [
    "### flag OR else\n",
    "문제 설명    \n",
    "본 문제에서는 자연수 5개가 주어집니다.    \n",
    "\n",
    "1. 숫자를 차례로 곱해 나온 수가 제곱수1가 되면 found를 출력하고    \n",
    "2. 모든 수를 곱해도 제곱수가 나오지 않았다면 not found를 출력하는   \n",
    "\n",
    "코드를 작성해주세요.   "
   ]
  },
  {
   "cell_type": "code",
   "execution_count": 12,
   "metadata": {},
   "outputs": [
    {
     "name": "stdout",
     "output_type": "stream",
     "text": [
      "1\n",
      "2\n",
      "3\n",
      "4\n",
      "5\n",
      "found\n"
     ]
    }
   ],
   "source": [
    "import math\n",
    "\n",
    "numbers = [int(input()) for _ in range(5)]\n",
    "multiplied = 1\n",
    "for number in numbers:\n",
    "    multiplied *= number\n",
    "    if math.sqrt(multiplied) == int(math.sqrt(multiplied)):\n",
    "        print('found')\n",
    "        break\n",
    "else:\n",
    "    print('not found')"
   ]
  },
  {
   "cell_type": "code",
   "execution_count": 13,
   "metadata": {},
   "outputs": [
    {
     "name": "stdout",
     "output_type": "stream",
     "text": [
      "1\n",
      "2\n",
      "3\n",
      "4\n",
      "5\n",
      "found\n"
     ]
    }
   ],
   "source": [
    "## flag?? _ 파이썬에서는 for-else문을 쓰자.(위 코드처럼)\n",
    "import math\n",
    "\n",
    "numbers = [int(input()) for _ in range(5)]\n",
    "multiplied = 1\n",
    "flag = True\n",
    "for number in numbers:\n",
    "    multiplied *= number\n",
    "    if math.sqrt(multiplied) == int(math.sqrt(multiplied)):\n",
    "        flag = False\n",
    "        print('found')\n",
    "        break\n",
    "\n",
    "if flag:\n",
    "    print('not found')"
   ]
  },
  {
   "cell_type": "markdown",
   "metadata": {},
   "source": [
    "### 두 변수의 값 바꾸기 swap"
   ]
  },
  {
   "cell_type": "code",
   "execution_count": 14,
   "metadata": {},
   "outputs": [
    {
     "name": "stdout",
     "output_type": "stream",
     "text": [
      "abc 3\n"
     ]
    }
   ],
   "source": [
    "# 다른 언어에서는..(또는 이 기능을 모르시는 분은)\n",
    "# 보통 사람들은 값을 임시로 저장할 변수, temp를 이용해 두 값을 바꿉니다.\n",
    "a = 3\n",
    "b = 'abc'\n",
    "\n",
    "temp = a\n",
    "a = b\n",
    "b = temp\n",
    "\n",
    "print(a,b)"
   ]
  },
  {
   "cell_type": "code",
   "execution_count": 15,
   "metadata": {},
   "outputs": [
    {
     "name": "stdout",
     "output_type": "stream",
     "text": [
      "abc 3\n"
     ]
    }
   ],
   "source": [
    "# 파이썬에서는 다음과 같이 한 줄로 두 값을 바꿔치기할 수 있습니다.\n",
    "\n",
    "a = 3\n",
    "b = 'abc'\n",
    "\n",
    "a, b = b, a # 참 쉽죠?\n",
    "print(a, b)"
   ]
  },
  {
   "cell_type": "code",
   "execution_count": null,
   "metadata": {},
   "outputs": [],
   "source": []
  },
  {
   "cell_type": "markdown",
   "metadata": {},
   "source": [
    "## 이진 탐색하기 - binary search"
   ]
  },
  {
   "cell_type": "code",
   "execution_count": 19,
   "metadata": {},
   "outputs": [
    {
     "name": "stdout",
     "output_type": "stream",
     "text": [
      "4\n"
     ]
    }
   ],
   "source": [
    "# 다른 언어에서는..(또는 이 기능을 모르시는 분은)\n",
    "# 직접 반복문을 만들어, 이진 탐색 알고리즘을 구현합니다.\n",
    "\n",
    "def bisect(a, x, lo=0, hi=None):\n",
    "    if lo < 0:\n",
    "        raise ValueError('lo must be non-negative')\n",
    "    if hi is None:\n",
    "        hi = len(a)\n",
    "    while lo < hi:\n",
    "        mid = (lo + hi) // 2\n",
    "        if a[mid] < x:\n",
    "            lo = mid + 1\n",
    "        else:\n",
    "            hi = mid\n",
    "    return lo\n",
    "\n",
    "mylist = [1, 2, 3, 7, 9, 11, 33]\n",
    "print(bisect(mylist, 9))"
   ]
  },
  {
   "cell_type": "code",
   "execution_count": 18,
   "metadata": {},
   "outputs": [
    {
     "name": "stdout",
     "output_type": "stream",
     "text": [
      "5\n"
     ]
    }
   ],
   "source": [
    "# 파이썬의 bisect.bisect 메소드를 사용하면 이 코드를 간략하게 만들 수 있습니다.\n",
    "\n",
    "import bisect\n",
    "mylist = [1, 2, 3, 7, 9, 11, 33]\n",
    "print(bisect.bisect(mylist, 9))"
   ]
  },
  {
   "cell_type": "code",
   "execution_count": null,
   "metadata": {},
   "outputs": [],
   "source": []
  },
  {
   "cell_type": "markdown",
   "metadata": {},
   "source": [
    "## 클래스 인스턴스 출력하기 - class의 자동 string casting\n",
    "이번 강의에서는 인스턴스 출력 형식을 지정하는 방법을 배워봅시다.\n",
    "\n",
    "예) 2차원 평면 위의 점을 나타내는 Coord 클래스의 인스턴스를 (x 값, y 값)으로 출력하기"
   ]
  },
  {
   "cell_type": "code",
   "execution_count": 20,
   "metadata": {},
   "outputs": [
    {
     "name": "stdout",
     "output_type": "stream",
     "text": [
      "(1, 2)\n",
      "(1, 2)\n"
     ]
    }
   ],
   "source": [
    "#다른 언어에서는..(또는 이 기능을 모르시는 분은)\n",
    "#보통 사람들은 클래스 바깥에 출력 함수를 만들거나, print 문 안에서 format을 지정합니다.\n",
    "\n",
    "class Coord(object):\n",
    "    def __init__ (self, x, y):\n",
    "        self.x, self.y = x, y\n",
    "\n",
    "point = Coord(1, 2)\n",
    "print( '({}, {})'.format(point.x, point.y) ) \n",
    "\n",
    "# 또는\n",
    "def print_coord(coord):\n",
    "    print( '({}, {})'.format(coord.x, coord.y) )\n",
    "print_coord(point)\n"
   ]
  },
  {
   "cell_type": "code",
   "execution_count": 24,
   "metadata": {},
   "outputs": [
    {
     "name": "stdout",
     "output_type": "stream",
     "text": [
      "(1, 2)\n"
     ]
    },
    {
     "data": {
      "text/plain": [
       "<__main__.Coord at 0x7f5c3d922990>"
      ]
     },
     "execution_count": 24,
     "metadata": {},
     "output_type": "execute_result"
    }
   ],
   "source": [
    "# 파이썬에서는 __str__ 메소드를 사용해 class 내부에서 출력 format을 지정할 수 있습니다.\n",
    "\n",
    "class Coord(object):\n",
    "    def __init__ (self, x, y):\n",
    "        self.x, self.y = x, y\n",
    "    def __str__ (self):\n",
    "        return '({}, {})'.format(self.x, self.y)\n",
    "\n",
    "point = Coord(1, 2)\n",
    "print(point)\n",
    "point"
   ]
  },
  {
   "cell_type": "code",
   "execution_count": null,
   "metadata": {},
   "outputs": [],
   "source": []
  },
  {
   "cell_type": "markdown",
   "metadata": {},
   "source": [
    "## 가장 큰 수, inf\n",
    "코딩 테스트 문제 등을 풀다 보면, 최솟값을 저장하는 변수에 아주 큰 값을 할당해야 할 때가 있습니다.     \n",
    "이번 시간에는 이때에 사용하기 좋은 inf에 대해 알아봅시다."
   ]
  },
  {
   "cell_type": "code",
   "execution_count": 29,
   "metadata": {},
   "outputs": [
    {
     "data": {
      "text/plain": [
       "True"
      ]
     },
     "execution_count": 29,
     "metadata": {},
     "output_type": "execute_result"
    }
   ],
   "source": [
    "# 파이썬이 제공하는 inf 를 사용해보세요. inf는 어떤 숫자와 비교해도 무조건 크다고 판정됩니다.\n",
    "\n",
    "min_val = float('inf')\n",
    "min_val > 10000000000"
   ]
  },
  {
   "cell_type": "code",
   "execution_count": 33,
   "metadata": {},
   "outputs": [
    {
     "data": {
      "text/plain": [
       "False"
      ]
     },
     "execution_count": 33,
     "metadata": {},
     "output_type": "execute_result"
    }
   ],
   "source": [
    "# inf에는 음수 기호를 붙이는 것도 가능합니다. >>어떤숫자와 비교해도 무조건 작다고 판정\n",
    "max_val = float('-inf')\n",
    "max_val > 0"
   ]
  },
  {
   "cell_type": "code",
   "execution_count": null,
   "metadata": {},
   "outputs": [],
   "source": []
  },
  {
   "cell_type": "markdown",
   "metadata": {},
   "source": [
    "## 파일 입출력 간단하게 하기\n",
    "이번 강의에서는 파일 입출력 코드를 간결하게 짜는 법을 알아봅시다.\n",
    "\n",
    "'myfile.txt'라는 이름의 파일을 읽는 코드를 짜보세요."
   ]
  },
  {
   "cell_type": "code",
   "execution_count": null,
   "metadata": {},
   "outputs": [],
   "source": [
    "다른 언어에서는..(또는 이 기능을 모르시는 분은)\n",
    "EOF를 만날 때까지, 파일 읽기를 반복합니다.\n",
    "\n",
    "f = open('myfile.txt', 'r')\n",
    "while True:\n",
    "    line = f.readline()\n",
    "    if not line: break\n",
    "    raw = line.split()\n",
    "    print(raw)\n",
    "f.close()"
   ]
  },
  {
   "cell_type": "markdown",
   "metadata": {},
   "source": [
    "파이썬의 with - as 구문을 이용하면 코드를 더 간결하게 짤 수 있습니다. 코드를 아래와 같이 쓰면 다음과 같은 장점이 있습니다.\n",
    "\n",
    "1. 파일을 close 하지 않아도 됩니다: with - as 블록이 종료되면 파일이 자동으로 close 됩니다.\n",
    "2. readlines가 EOF까지만 읽으므로, while 문 안에서 EOF를 체크할 필요가 없습니다."
   ]
  },
  {
   "cell_type": "code",
   "execution_count": null,
   "metadata": {},
   "outputs": [],
   "source": [
    "with open('myfile.txt') as file:\n",
    "  for line in file.readlines():\n",
    "    print(line.strip().split('\\t'))   "
   ]
  },
  {
   "cell_type": "markdown",
   "metadata": {},
   "source": [
    "⨳ with - as 구문은 파일 뿐만 아니라 socket이나 http 등에서도 사용할 수 있습니다."
   ]
  },
  {
   "cell_type": "code",
   "execution_count": null,
   "metadata": {},
   "outputs": [],
   "source": []
  }
 ],
 "metadata": {
  "kernelspec": {
   "display_name": "Python 3",
   "language": "python",
   "name": "python3"
  },
  "language_info": {
   "codemirror_mode": {
    "name": "ipython",
    "version": 3
   },
   "file_extension": ".py",
   "mimetype": "text/x-python",
   "name": "python",
   "nbconvert_exporter": "python",
   "pygments_lexer": "ipython3",
   "version": "3.7.6"
  }
 },
 "nbformat": 4,
 "nbformat_minor": 4
}
