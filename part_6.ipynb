{
 "cells": [
  {
   "cell_type": "markdown",
   "metadata": {},
   "source": [
    "## Itertools / Collections 모듈 "
   ]
  },
  {
   "cell_type": "markdown",
   "metadata": {},
   "source": [
    "### 곱집합(Cartesian product) 구하기 - product\n",
    "이번 강의에서는 iterable으로 곱집합을 구하는 방법을 알아봅니다.\n",
    "\n",
    "예시) 두 스트링 'ABCD', 'xy' 의 곱집합은 Ax Ay Bx By Cx Cy Dx Dy 입니다."
   ]
  },
  {
   "cell_type": "code",
   "execution_count": 4,
   "metadata": {},
   "outputs": [
    {
     "name": "stdout",
     "output_type": "stream",
     "text": [
      "Ax1,Ax2,Ax3,Ax4,Ay1,Ay2,Ay3,Ay4,Bx1,Bx2,Bx3,Bx4,By1,By2,By3,By4,Cx1,Cx2,Cx3,Cx4,Cy1,Cy2,Cy3,Cy4,Dx1,Dx2,Dx3,Dx4,Dy1,Dy2,Dy3,Dy4,"
     ]
    }
   ],
   "source": [
    "iterable1 = 'ABCD'\n",
    "iterable2 = 'xy'\n",
    "iterable3 = '1234'\n",
    "\n",
    "for i in iterable1:\n",
    "    for j in iterable2:\n",
    "        for k in iterable3:\n",
    "            print(i+j+k, end= \",\")\n",
    "            "
   ]
  },
  {
   "cell_type": "code",
   "execution_count": 11,
   "metadata": {},
   "outputs": [
    {
     "name": "stdout",
     "output_type": "stream",
     "text": [
      "('A', 'x', '1') ('A', 'x', '2') ('A', 'x', '3') ('A', 'x', '4') ('A', 'y', '1') ('A', 'y', '2') ('A', 'y', '3') ('A', 'y', '4') ('B', 'x', '1') ('B', 'x', '2') ('B', 'x', '3') ('B', 'x', '4') ('B', 'y', '1') ('B', 'y', '2') ('B', 'y', '3') ('B', 'y', '4') ('C', 'x', '1') ('C', 'x', '2') ('C', 'x', '3') ('C', 'x', '4') ('C', 'y', '1') ('C', 'y', '2') ('C', 'y', '3') ('C', 'y', '4') ('D', 'x', '1') ('D', 'x', '2') ('D', 'x', '3') ('D', 'x', '4') ('D', 'y', '1') ('D', 'y', '2') ('D', 'y', '3') ('D', 'y', '4')\n",
      "['Ax1', 'Ax2', 'Ax3', 'Ax4', 'Ay1', 'Ay2', 'Ay3', 'Ay4', 'Bx1', 'Bx2', 'Bx3', 'Bx4', 'By1', 'By2', 'By3', 'By4', 'Cx1', 'Cx2', 'Cx3', 'Cx4', 'Cy1', 'Cy2', 'Cy3', 'Cy4', 'Dx1', 'Dx2', 'Dx3', 'Dx4', 'Dy1', 'Dy2', 'Dy3', 'Dy4']\n"
     ]
    }
   ],
   "source": [
    "# itertools.product\n",
    "\n",
    "import itertools\n",
    "\n",
    "iterable1 = 'ABCD'\n",
    "iterable2 = 'xy'\n",
    "iterable3 = '1234'\n",
    "\n",
    "print(*itertools.product(iterable1,iterable2,iterable3))\n",
    "print([ ''.join(i) for i in itertools.product(iterable1, iterable2, iterable3) ])"
   ]
  },
  {
   "cell_type": "code",
   "execution_count": 7,
   "metadata": {},
   "outputs": [
    {
     "data": {
      "text/plain": [
       "<itertools.product at 0x7f6a783f5190>"
      ]
     },
     "execution_count": 7,
     "metadata": {},
     "output_type": "execute_result"
    }
   ],
   "source": [
    "iterable1 = 'ABCD'\n",
    "iterable2 = 'xy'\n",
    "iterable3 = '1234'\n",
    "itertools.product(iterable1, iterable2, iterable3)"
   ]
  },
  {
   "cell_type": "code",
   "execution_count": 12,
   "metadata": {},
   "outputs": [
    {
     "name": "stdout",
     "output_type": "stream",
     "text": [
      "[('1', 'a'), ('1', 'b'), ('1', 'c'), ('1', 'd'), ('2', 'a'), ('2', 'b'), ('2', 'c'), ('2', 'd'), ('3', 'a'), ('3', 'b'), ('3', 'c'), ('3', 'd'), ('4', 'a'), ('4', 'b'), ('4', 'c'), ('4', 'd')]\n"
     ]
    }
   ],
   "source": [
    "iter1 = '1234'\n",
    "iter2 = 'abcd'\n",
    "\n",
    "print([i for i in itertools.product(iter1,iter2)])"
   ]
  },
  {
   "cell_type": "code",
   "execution_count": 17,
   "metadata": {},
   "outputs": [
    {
     "name": "stdout",
     "output_type": "stream",
     "text": [
      "[('1', 'a'), ('1', 'b'), ('1', 'c'), ('1', 'd'), ('2', 'a'), ('2', 'b'), ('2', 'c'), ('2', 'd'), ('3', 'a'), ('3', 'b'), ('3', 'c'), ('3', 'd'), ('4', 'a'), ('4', 'b'), ('4', 'c'), ('4', 'd')]\n"
     ]
    }
   ],
   "source": [
    "print([(x,y) for x in iter1 for y in iter2])"
   ]
  },
  {
   "cell_type": "markdown",
   "metadata": {},
   "source": [
    "### 2차원 리스트를 1차원 리스트로 만들기\n",
    "\n",
    "문제 설명    \n",
    "문자열을 담은 이차원 리스트, mylist 가 solution 함수의 파라미터로 주어집니다. solution 함수가 mylist를 일차원 리스트로 만들어 리턴하도록 코드를 작성해주세요."
   ]
  },
  {
   "cell_type": "code",
   "execution_count": 25,
   "metadata": {},
   "outputs": [
    {
     "data": {
      "text/plain": [
       "[1, 2]"
      ]
     },
     "execution_count": 25,
     "metadata": {},
     "output_type": "execute_result"
    }
   ],
   "source": [
    "mylist = [[1],[2]]\n",
    "\n",
    "\n",
    "def solution(mylist):\n",
    "    answer = []\n",
    "    for i in mylist:\n",
    "        answer += i\n",
    "    return answer\n",
    "\n",
    "solution(mylist)"
   ]
  },
  {
   "cell_type": "code",
   "execution_count": 20,
   "metadata": {},
   "outputs": [
    {
     "data": {
      "text/plain": [
       "[1, 2, 3, 4, 5, 6]"
      ]
     },
     "execution_count": 20,
     "metadata": {},
     "output_type": "execute_result"
    }
   ],
   "source": [
    "my_list = [[1, 2], [3, 4], [5, 6]]\n",
    "answer = []\n",
    "for i in my_list:\n",
    "    answer += i\n",
    "    \n",
    "answer\n"
   ]
  },
  {
   "cell_type": "code",
   "execution_count": 26,
   "metadata": {},
   "outputs": [
    {
     "data": {
      "text/plain": [
       "[1, 2, 3, 4, 5, 6]"
      ]
     },
     "execution_count": 26,
     "metadata": {},
     "output_type": "execute_result"
    }
   ],
   "source": [
    "my_list = [[1, 2], [3, 4], [5, 6]]\n",
    "\n",
    "# 방법 1 - sum 함수\n",
    "answer = sum(my_list, [])\n",
    "answer"
   ]
  },
  {
   "cell_type": "code",
   "execution_count": 27,
   "metadata": {},
   "outputs": [
    {
     "data": {
      "text/plain": [
       "[1, 2, 3, 4, 5, 6]"
      ]
     },
     "execution_count": 27,
     "metadata": {},
     "output_type": "execute_result"
    }
   ],
   "source": [
    "# 방법 2 - itertools.chain\n",
    "import itertools\n",
    "list(itertools.chain.from_iterable(my_list))"
   ]
  },
  {
   "cell_type": "code",
   "execution_count": 28,
   "metadata": {},
   "outputs": [
    {
     "data": {
      "text/plain": [
       "[1, 2, 3, 4, 5, 6]"
      ]
     },
     "execution_count": 28,
     "metadata": {},
     "output_type": "execute_result"
    }
   ],
   "source": [
    "# 방법 3 - itertools와 unpacking\n",
    "import itertools\n",
    "list(itertools.chain(*my_list))"
   ]
  },
  {
   "cell_type": "code",
   "execution_count": 29,
   "metadata": {},
   "outputs": [
    {
     "data": {
      "text/plain": [
       "[1, 2, 3, 4, 5, 6]"
      ]
     },
     "execution_count": 29,
     "metadata": {},
     "output_type": "execute_result"
    }
   ],
   "source": [
    "# 방법4 - list comprehension 이용\n",
    "[element for array in my_list for element in array]"
   ]
  },
  {
   "cell_type": "code",
   "execution_count": 30,
   "metadata": {},
   "outputs": [
    {
     "data": {
      "text/plain": [
       "[1, 2, 3, 4, 5, 6]"
      ]
     },
     "execution_count": 30,
     "metadata": {},
     "output_type": "execute_result"
    }
   ],
   "source": [
    "# 방법 5 - reduce 함수 이용1\n",
    "from functools import reduce\n",
    "list(reduce(lambda x, y: x+y, my_list))"
   ]
  },
  {
   "cell_type": "code",
   "execution_count": 31,
   "metadata": {},
   "outputs": [
    {
     "data": {
      "text/plain": [
       "[1, 2, 3, 4, 5, 6]"
      ]
     },
     "execution_count": 31,
     "metadata": {},
     "output_type": "execute_result"
    }
   ],
   "source": [
    "# 방법 6 - reduce 함수 이용2\n",
    "from functools import reduce\n",
    "import operator\n",
    "list(reduce(operator.add, my_list))"
   ]
  },
  {
   "cell_type": "code",
   "execution_count": 32,
   "metadata": {},
   "outputs": [
    {
     "data": {
      "text/plain": [
       "[1, 2, 3, 4, 5, 6]"
      ]
     },
     "execution_count": 32,
     "metadata": {},
     "output_type": "execute_result"
    }
   ],
   "source": [
    "# 방법 7 - numpy 라이브러리의 flatten 이용\n",
    "import numpy as np\n",
    "np.array(my_list).flatten().tolist()"
   ]
  },
  {
   "cell_type": "markdown",
   "metadata": {},
   "source": [
    "### 순열과 조합\n",
    "문제 설명    \n",
    "숫자를 담은 일차원 리스트, mylist에 대해 mylist의 원소로 이루어진 모든 순열을 사전순으로 리턴하는 함수 solution을 완성해주세요."
   ]
  },
  {
   "cell_type": "code",
   "execution_count": 33,
   "metadata": {},
   "outputs": [],
   "source": [
    "def permute(arr):\n",
    "    result = [arr[:]]\n",
    "    c = [0] * len(arr)\n",
    "    i = 0\n",
    "    while i < len(arr):\n",
    "        if c[i] < i:\n",
    "            if i % 2 == 0:\n",
    "                arr[0], arr[i] = arr[i], arr[0]\n",
    "            else:\n",
    "                arr[c[i]], arr[i] = arr[i], arr[c[i]]\n",
    "            result.append(arr[:])\n",
    "            c[i] += 1\n",
    "            i = 0\n",
    "        else:\n",
    "            c[i] = 0\n",
    "            i += 1\n",
    "    return result"
   ]
  },
  {
   "cell_type": "code",
   "execution_count": 36,
   "metadata": {},
   "outputs": [
    {
     "name": "stdout",
     "output_type": "stream",
     "text": [
      "['BCA', 'BAC', 'CBA', 'CAB', 'ABC', 'ACB']\n",
      "['BC', 'BA', 'CB', 'CA', 'AB', 'AC']\n"
     ]
    }
   ],
   "source": [
    "import itertools\n",
    "\n",
    "pool = ['B', 'C','A']\n",
    "print(list(map(''.join, itertools.permutations(pool)))) # 3개의 원소로 수열 만들기\n",
    "print(list(map(''.join, itertools.permutations(pool, 2)))) # 2개의 원소로 수열 만들기"
   ]
  },
  {
   "cell_type": "code",
   "execution_count": 46,
   "metadata": {},
   "outputs": [
    {
     "name": "stdout",
     "output_type": "stream",
     "text": [
      "['ABC', 'ACB', 'BAC', 'BCA', 'CAB', 'CBA']\n"
     ]
    }
   ],
   "source": [
    "a = list(map(''.join, itertools.permutations(pool)))\n",
    "a.sort()\n",
    "print(a)"
   ]
  },
  {
   "cell_type": "code",
   "execution_count": 62,
   "metadata": {},
   "outputs": [
    {
     "data": {
      "text/plain": [
       "[(1, 2, 3), (1, 3, 2), (2, 1, 3), (2, 3, 1), (3, 1, 2), (3, 2, 1)]"
      ]
     },
     "execution_count": 62,
     "metadata": {},
     "output_type": "execute_result"
    }
   ],
   "source": [
    "#### 제출 정답\n",
    "\n",
    "from itertools import permutations \n",
    "\n",
    "mylist = [2,1,3]\n",
    "\n",
    "def solution(mylist):\n",
    "    a = list(permutations(mylist))\n",
    "    answer = sorted(a)                  # sorted()\n",
    "    return answer\n",
    "\n",
    "solution(mylist)"
   ]
  },
  {
   "cell_type": "code",
   "execution_count": 65,
   "metadata": {},
   "outputs": [
    {
     "data": {
      "text/plain": [
       "[[1, 2], [2, 1]]"
      ]
     },
     "execution_count": 65,
     "metadata": {},
     "output_type": "execute_result"
    }
   ],
   "source": [
    "mylist = [2,1]\n",
    "\n",
    "def solution(mylist):\n",
    "    a = list(map(list,(permutations(mylist))))\n",
    "    answer = sorted(a)                  # sorted()\n",
    "    return answer\n",
    "solution(mylist)"
   ]
  },
  {
   "cell_type": "code",
   "execution_count": 61,
   "metadata": {},
   "outputs": [
    {
     "data": {
      "text/plain": [
       "[[2, 1, 3], [2, 3, 1], [1, 2, 3], [1, 3, 2], [3, 2, 1], [3, 1, 2]]"
      ]
     },
     "execution_count": 61,
     "metadata": {},
     "output_type": "execute_result"
    }
   ],
   "source": [
    "\n",
    "def solution(mylist):\n",
    "    return list(map(list,(permutations(mylist))))\n",
    "solution(mylist)"
   ]
  },
  {
   "cell_type": "markdown",
   "metadata": {},
   "source": [
    "### 가장 많이 등장하는 알파벳 찾기\n",
    "문제 설명    \n",
    "이 문제에는 표준 입력으로 문자열, mystr이 주어집니다. mystr에서 가장 많이 등장하는 알파벳만을 사전 순으로 출력하는 코드를 작성해주세요."
   ]
  },
  {
   "cell_type": "code",
   "execution_count": 3,
   "metadata": {},
   "outputs": [
    {
     "name": "stdout",
     "output_type": "stream",
     "text": [
      "aaaabbbbcdddd\n",
      "abd\n"
     ]
    }
   ],
   "source": [
    "import collections\n",
    "my_str = input().strip()\n",
    "answer = collections.Counter(my_str)\n",
    "MAX = 0\n",
    "MAX_str = ''\n",
    "for x, a in answer.most_common(): # 여기\n",
    "    if a >= MAX:\n",
    "        MAX = a\n",
    "        MAX_str += x\n",
    "MAX_str = ''.join(sorted(MAX_str))  # 여기\n",
    "print(MAX_str)"
   ]
  },
  {
   "cell_type": "code",
   "execution_count": 67,
   "metadata": {
    "scrolled": true
   },
   "outputs": [
    {
     "name": "stdout",
     "output_type": "stream",
     "text": [
      "4\n",
      "3\n"
     ]
    },
    {
     "ename": "KeyError",
     "evalue": "100",
     "output_type": "error",
     "traceback": [
      "\u001b[0;31m---------------------------------------------------------------------------\u001b[0m",
      "\u001b[0;31mKeyError\u001b[0m                                  Traceback (most recent call last)",
      "\u001b[0;32m<ipython-input-67-bbdc825b4e3a>\u001b[0m in \u001b[0;36m<module>\u001b[0;34m\u001b[0m\n\u001b[1;32m      9\u001b[0m \u001b[0mprint\u001b[0m\u001b[0;34m(\u001b[0m\u001b[0manswer\u001b[0m\u001b[0;34m[\u001b[0m\u001b[0;36m1\u001b[0m\u001b[0;34m]\u001b[0m\u001b[0;34m)\u001b[0m \u001b[0;31m# = 4\u001b[0m\u001b[0;34m\u001b[0m\u001b[0;34m\u001b[0m\u001b[0m\n\u001b[1;32m     10\u001b[0m \u001b[0mprint\u001b[0m\u001b[0;34m(\u001b[0m\u001b[0manswer\u001b[0m\u001b[0;34m[\u001b[0m\u001b[0;36m3\u001b[0m\u001b[0;34m]\u001b[0m\u001b[0;34m)\u001b[0m  \u001b[0;31m# = 3\u001b[0m\u001b[0;34m\u001b[0m\u001b[0;34m\u001b[0m\u001b[0m\n\u001b[0;32m---> 11\u001b[0;31m \u001b[0mprint\u001b[0m\u001b[0;34m(\u001b[0m\u001b[0manswer\u001b[0m\u001b[0;34m[\u001b[0m\u001b[0;36m100\u001b[0m\u001b[0;34m]\u001b[0m\u001b[0;34m)\u001b[0m  \u001b[0;31m# =  raise KeyError\u001b[0m\u001b[0;34m\u001b[0m\u001b[0;34m\u001b[0m\u001b[0m\n\u001b[0m",
      "\u001b[0;31mKeyError\u001b[0m: 100"
     ]
    }
   ],
   "source": [
    "my_list = [1, 2, 3, 4, 5, 6, 7, 8, 7, 9, 1, 2, 3, 3, 5, 2, 6, 8, 9, 0, 1, 1, 4, 7, 0]\n",
    "answer = {}\n",
    "for number in my_list:\n",
    "    try:\n",
    "        answer[number] += 1\n",
    "    except KeyError:\n",
    "        answer[number] = 1\n",
    "\n",
    "print(answer[1]) # = 4\n",
    "print(answer[3])  # = 3\n",
    "print(answer[100])  # =  raise KeyError"
   ]
  },
  {
   "cell_type": "code",
   "execution_count": 68,
   "metadata": {},
   "outputs": [
    {
     "name": "stdout",
     "output_type": "stream",
     "text": [
      "4\n",
      "3\n",
      "0\n"
     ]
    }
   ],
   "source": [
    "# collections.Counter 클래스를 사용\n",
    "\n",
    "import collections\n",
    "my_list = [1, 2, 3, 4, 5, 6, 7, 8, 7, 9, 1, 2, 3, 3, 5, 2, 6, 8, 9, 0, 1, 1, 4, 7, 0]\n",
    "answer = collections.Counter(my_list)\n",
    "\n",
    "print(answer[1]) # = 4\n",
    "print(answer[3])  # = 3\n",
    "print(answer[100]) # = 0"
   ]
  },
  {
   "cell_type": "code",
   "execution_count": 1,
   "metadata": {},
   "outputs": [
    {
     "name": "stdout",
     "output_type": "stream",
     "text": [
      "adffefdd\n",
      "df"
     ]
    }
   ],
   "source": [
    "## 한울\n",
    "cnt = [0 for _ in range(200)]\n",
    "my_str = input().strip()\n",
    "for ch in my_str: cnt[ord(ch)] += 1\n",
    "max = max(cnt)\n",
    "for i in range(0,len(cnt)):\n",
    "    if cnt[i] == max: print(chr(i), end='')\n"
   ]
  },
  {
   "cell_type": "code",
   "execution_count": 2,
   "metadata": {},
   "outputs": [
    {
     "name": "stdout",
     "output_type": "stream",
     "text": [
      "asfdds\n",
      "ds\n"
     ]
    }
   ],
   "source": [
    "## 윤성\n",
    "\n",
    "s = input()\n",
    "tab = [0]*26\n",
    "max_num = 0\n",
    "answer = []\n",
    "for i in s:\n",
    "    idx = ord(i) - ord('a')\n",
    "    tab[idx] += 1\n",
    "    if tab[idx] == max_num:\n",
    "        max_num = tab[idx]\n",
    "        answer.append(i)\n",
    "    elif tab[idx] > max_num:\n",
    "        answer = [i]\n",
    "        max_num = tab[idx]\n",
    "answer.sort()\n",
    "print(''.join(answer))"
   ]
  },
  {
   "cell_type": "code",
   "execution_count": null,
   "metadata": {},
   "outputs": [],
   "source": []
  }
 ],
 "metadata": {
  "kernelspec": {
   "display_name": "Python 3",
   "language": "python",
   "name": "python3"
  },
  "language_info": {
   "codemirror_mode": {
    "name": "ipython",
    "version": 3
   },
   "file_extension": ".py",
   "mimetype": "text/x-python",
   "name": "python",
   "nbconvert_exporter": "python",
   "pygments_lexer": "ipython3",
   "version": "3.7.6"
  }
 },
 "nbformat": 4,
 "nbformat_minor": 4
}
